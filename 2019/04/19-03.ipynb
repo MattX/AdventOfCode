{
 "cells": [
  {
   "cell_type": "code",
   "execution_count": 3,
   "metadata": {},
   "outputs": [],
   "source": [
    "MIN = [2, 4, 6, 5, 1, 5]\n",
    "MAX = [7, 3, 9, 1, 0, 5]"
   ]
  },
  {
   "cell_type": "code",
   "execution_count": 1,
   "metadata": {},
   "outputs": [],
   "source": [
    "def lst_to_num(l):\n",
    "    acc = 0\n",
    "    for e in l:\n",
    "        acc *= 10\n",
    "        acc += e\n",
    "    return acc"
   ]
  },
  {
   "cell_type": "code",
   "execution_count": null,
   "metadata": {},
   "outputs": [],
   "source": []
  },
  {
   "cell_type": "code",
   "execution_count": 19,
   "metadata": {},
   "outputs": [],
   "source": [
    "def search(prefix, has_double):\n",
    "    print(f\"search {prefix}\")\n",
    "    total = 0\n",
    "    i_start = len(prefix)\n",
    "    previous = prefix[-1] if i_start != 0 else None\n",
    "    \n",
    "    if len(prefix) == 5 and not has_double:\n",
    "        return 1\n",
    "    if len(prefix) == 6:\n",
    "        return 1\n",
    "    \n",
    "    start_at = max(MIN[i_start], previous) if previous is not None else MIN[i_start]\n",
    "    print(f\"{start_at}, {MAX[i_start]}\")\n",
    "    \n",
    "    for i in range(start_at, MAX[i_start] + 1):\n",
    "        print(f\"search {prefix} + [{i}]\")\n",
    "        has_double = previous == i\n",
    "        total += search(prefix + [i], has_double)\n",
    "    \n",
    "    return total"
   ]
  },
  {
   "cell_type": "code",
   "execution_count": 20,
   "metadata": {},
   "outputs": [
    {
     "name": "stdout",
     "output_type": "stream",
     "text": [
      "search []\n",
      "2, 7\n",
      "search [] + [2]\n",
      "search [2]\n",
      "4, 3\n",
      "search [] + [3]\n",
      "search [3]\n",
      "4, 3\n",
      "search [] + [4]\n",
      "search [4]\n",
      "4, 3\n",
      "search [] + [5]\n",
      "search [5]\n",
      "5, 3\n",
      "search [] + [6]\n",
      "search [6]\n",
      "6, 3\n",
      "search [] + [7]\n",
      "search [7]\n",
      "7, 3\n"
     ]
    },
    {
     "data": {
      "text/plain": [
       "0"
      ]
     },
     "execution_count": 20,
     "metadata": {},
     "output_type": "execute_result"
    }
   ],
   "source": [
    "search([], False)"
   ]
  },
  {
   "cell_type": "code",
   "execution_count": null,
   "metadata": {},
   "outputs": [],
   "source": []
  }
 ],
 "metadata": {
  "kernelspec": {
   "display_name": "Python 3",
   "language": "python",
   "name": "python3"
  },
  "language_info": {
   "codemirror_mode": {
    "name": "ipython",
    "version": 3
   },
   "file_extension": ".py",
   "mimetype": "text/x-python",
   "name": "python",
   "nbconvert_exporter": "python",
   "pygments_lexer": "ipython3",
   "version": "3.7.5"
  }
 },
 "nbformat": 4,
 "nbformat_minor": 2
}
