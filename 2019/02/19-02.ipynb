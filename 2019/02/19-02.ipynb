{
 "cells": [
  {
   "cell_type": "code",
   "execution_count": 16,
   "metadata": {},
   "outputs": [],
   "source": [
    "values = [int(v) for v in next(open('input')).strip().split(',')]"
   ]
  },
  {
   "cell_type": "code",
   "execution_count": 17,
   "metadata": {},
   "outputs": [
    {
     "data": {
      "text/plain": [
       "[1,\n",
       " 0,\n",
       " 0,\n",
       " 3,\n",
       " 1,\n",
       " 1,\n",
       " 2,\n",
       " 3,\n",
       " 1,\n",
       " 3,\n",
       " 4,\n",
       " 3,\n",
       " 1,\n",
       " 5,\n",
       " 0,\n",
       " 3,\n",
       " 2,\n",
       " 13,\n",
       " 1,\n",
       " 19,\n",
       " 1,\n",
       " 19,\n",
       " 9,\n",
       " 23,\n",
       " 1,\n",
       " 5,\n",
       " 23,\n",
       " 27,\n",
       " 1,\n",
       " 27,\n",
       " 9,\n",
       " 31,\n",
       " 1,\n",
       " 6,\n",
       " 31,\n",
       " 35,\n",
       " 2,\n",
       " 35,\n",
       " 9,\n",
       " 39,\n",
       " 1,\n",
       " 39,\n",
       " 6,\n",
       " 43,\n",
       " 2,\n",
       " 9,\n",
       " 43,\n",
       " 47,\n",
       " 1,\n",
       " 47,\n",
       " 6,\n",
       " 51,\n",
       " 2,\n",
       " 51,\n",
       " 9,\n",
       " 55,\n",
       " 1,\n",
       " 5,\n",
       " 55,\n",
       " 59,\n",
       " 2,\n",
       " 59,\n",
       " 6,\n",
       " 63,\n",
       " 1,\n",
       " 9,\n",
       " 63,\n",
       " 67,\n",
       " 1,\n",
       " 67,\n",
       " 10,\n",
       " 71,\n",
       " 1,\n",
       " 71,\n",
       " 13,\n",
       " 75,\n",
       " 2,\n",
       " 13,\n",
       " 75,\n",
       " 79,\n",
       " 1,\n",
       " 6,\n",
       " 79,\n",
       " 83,\n",
       " 2,\n",
       " 9,\n",
       " 83,\n",
       " 87,\n",
       " 1,\n",
       " 87,\n",
       " 6,\n",
       " 91,\n",
       " 2,\n",
       " 10,\n",
       " 91,\n",
       " 95,\n",
       " 2,\n",
       " 13,\n",
       " 95,\n",
       " 99,\n",
       " 1,\n",
       " 9,\n",
       " 99,\n",
       " 103,\n",
       " 1,\n",
       " 5,\n",
       " 103,\n",
       " 107,\n",
       " 2,\n",
       " 9,\n",
       " 107,\n",
       " 111,\n",
       " 1,\n",
       " 111,\n",
       " 5,\n",
       " 115,\n",
       " 1,\n",
       " 115,\n",
       " 5,\n",
       " 119,\n",
       " 1,\n",
       " 10,\n",
       " 119,\n",
       " 123,\n",
       " 1,\n",
       " 13,\n",
       " 123,\n",
       " 127,\n",
       " 1,\n",
       " 2,\n",
       " 127,\n",
       " 131,\n",
       " 1,\n",
       " 131,\n",
       " 13,\n",
       " 0,\n",
       " 99,\n",
       " 2,\n",
       " 14,\n",
       " 0,\n",
       " 0]"
      ]
     },
     "execution_count": 17,
     "metadata": {},
     "output_type": "execute_result"
    }
   ],
   "source": [
    "values"
   ]
  },
  {
   "cell_type": "code",
   "execution_count": 13,
   "metadata": {},
   "outputs": [],
   "source": [
    "def run(inpt):\n",
    "    values = [v for v in inpt]\n",
    "    for i_instr in range(0, len(values), 4):\n",
    "        op = values[i_instr]\n",
    "        if op == 1:\n",
    "            values[values[i_instr+3]] = values[values[i_instr+1]] + values[values[i_instr+2]]\n",
    "        elif op == 2:\n",
    "            values[values[i_instr+3]] = values[values[i_instr+1]] * values[values[i_instr+2]]\n",
    "        elif op == 99:\n",
    "            break\n",
    "        else:\n",
    "            raise RuntimeError(f\"wat @ {i_instr}\")\n",
    "    return values"
   ]
  },
  {
   "cell_type": "code",
   "execution_count": 15,
   "metadata": {},
   "outputs": [
    {
     "data": {
      "text/plain": [
       "[30, 1, 1, 4, 2, 5, 6, 0, 99]"
      ]
     },
     "execution_count": 15,
     "metadata": {},
     "output_type": "execute_result"
    }
   ],
   "source": [
    "run([1,1,1,4,99,5,6,0,99])"
   ]
  },
  {
   "cell_type": "code",
   "execution_count": 18,
   "metadata": {},
   "outputs": [],
   "source": []
  },
  {
   "cell_type": "code",
   "execution_count": 20,
   "metadata": {},
   "outputs": [
    {
     "name": "stdout",
     "output_type": "stream",
     "text": [
      "79 12\n"
     ]
    }
   ],
   "source": [
    "for i in range(99):\n",
    "    for j in range(99):\n",
    "        values[1] = i\n",
    "        values[2] = j\n",
    "        out = run(values)\n",
    "        if out[0] == 19690720:\n",
    "            print(i, j)\n",
    "            break"
   ]
  },
  {
   "cell_type": "code",
   "execution_count": null,
   "metadata": {},
   "outputs": [],
   "source": []
  }
 ],
 "metadata": {
  "kernelspec": {
   "display_name": "Python 3",
   "language": "python",
   "name": "python3"
  },
  "language_info": {
   "codemirror_mode": {
    "name": "ipython",
    "version": 3
   },
   "file_extension": ".py",
   "mimetype": "text/x-python",
   "name": "python",
   "nbconvert_exporter": "python",
   "pygments_lexer": "ipython3",
   "version": "3.7.5"
  }
 },
 "nbformat": 4,
 "nbformat_minor": 2
}
